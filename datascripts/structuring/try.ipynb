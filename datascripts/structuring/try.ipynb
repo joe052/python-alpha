{
 "cells": [
  {
   "cell_type": "code",
   "execution_count": 1,
   "metadata": {},
   "outputs": [],
   "source": [
    "import pandas as pd\n",
    "import numpy as np\n",
    "import warnings\n",
    "warnings.filterwarnings('ignore')"
   ]
  },
  {
   "cell_type": "code",
   "execution_count": 2,
   "metadata": {},
   "outputs": [
    {
     "data": {
      "text/html": [
       "<div>\n",
       "<style scoped>\n",
       "    .dataframe tbody tr th:only-of-type {\n",
       "        vertical-align: middle;\n",
       "    }\n",
       "\n",
       "    .dataframe tbody tr th {\n",
       "        vertical-align: top;\n",
       "    }\n",
       "\n",
       "    .dataframe thead th {\n",
       "        text-align: right;\n",
       "    }\n",
       "</style>\n",
       "<table border=\"1\" class=\"dataframe\">\n",
       "  <thead>\n",
       "    <tr style=\"text-align: right;\">\n",
       "      <th></th>\n",
       "      <th>timestamp</th>\n",
       "      <th>open</th>\n",
       "      <th>high</th>\n",
       "      <th>low</th>\n",
       "      <th>close</th>\n",
       "    </tr>\n",
       "  </thead>\n",
       "  <tbody>\n",
       "    <tr>\n",
       "      <th>0</th>\n",
       "      <td>2025-02-08 00:00:00</td>\n",
       "      <td>0.5703</td>\n",
       "      <td>0.5706</td>\n",
       "      <td>0.5702</td>\n",
       "      <td>0.5704</td>\n",
       "    </tr>\n",
       "    <tr>\n",
       "      <th>1</th>\n",
       "      <td>2025-02-07 23:00:00</td>\n",
       "      <td>0.5702</td>\n",
       "      <td>0.5704</td>\n",
       "      <td>0.5700</td>\n",
       "      <td>0.5703</td>\n",
       "    </tr>\n",
       "    <tr>\n",
       "      <th>2</th>\n",
       "      <td>2025-02-07 22:00:00</td>\n",
       "      <td>0.5703</td>\n",
       "      <td>0.5705</td>\n",
       "      <td>0.5701</td>\n",
       "      <td>0.5702</td>\n",
       "    </tr>\n",
       "    <tr>\n",
       "      <th>3</th>\n",
       "      <td>2025-02-07 21:00:00</td>\n",
       "      <td>0.5706</td>\n",
       "      <td>0.5712</td>\n",
       "      <td>0.5701</td>\n",
       "      <td>0.5703</td>\n",
       "    </tr>\n",
       "    <tr>\n",
       "      <th>4</th>\n",
       "      <td>2025-02-07 20:00:00</td>\n",
       "      <td>0.5698</td>\n",
       "      <td>0.5706</td>\n",
       "      <td>0.5693</td>\n",
       "      <td>0.5706</td>\n",
       "    </tr>\n",
       "  </tbody>\n",
       "</table>\n",
       "</div>"
      ],
      "text/plain": [
       "             timestamp    open    high     low   close\n",
       "0  2025-02-08 00:00:00  0.5703  0.5706  0.5702  0.5704\n",
       "1  2025-02-07 23:00:00  0.5702  0.5704  0.5700  0.5703\n",
       "2  2025-02-07 22:00:00  0.5703  0.5705  0.5701  0.5702\n",
       "3  2025-02-07 21:00:00  0.5706  0.5712  0.5701  0.5703\n",
       "4  2025-02-07 20:00:00  0.5698  0.5706  0.5693  0.5706"
      ]
     },
     "execution_count": 2,
     "metadata": {},
     "output_type": "execute_result"
    }
   ],
   "source": [
    "df = pd.read_csv(r\"D:/Joe Workspace/Github/python-alpha/cleaned-data/currency_pairs/forex_data_H1_AUD_CHF.csv\")\n",
    "df.head()\n"
   ]
  },
  {
   "cell_type": "code",
   "execution_count": 3,
   "metadata": {},
   "outputs": [
    {
     "name": "stdout",
     "output_type": "stream",
     "text": [
      "<class 'pandas.core.frame.DataFrame'>\n",
      "RangeIndex: 9900 entries, 0 to 9899\n",
      "Data columns (total 5 columns):\n",
      " #   Column     Non-Null Count  Dtype  \n",
      "---  ------     --------------  -----  \n",
      " 0   timestamp  9900 non-null   object \n",
      " 1   open       9900 non-null   float64\n",
      " 2   high       9900 non-null   float64\n",
      " 3   low        9900 non-null   float64\n",
      " 4   close      9900 non-null   float64\n",
      "dtypes: float64(4), object(1)\n",
      "memory usage: 386.8+ KB\n"
     ]
    }
   ],
   "source": [
    "df.info()"
   ]
  },
  {
   "cell_type": "code",
   "execution_count": 5,
   "metadata": {},
   "outputs": [
    {
     "data": {
      "text/plain": [
       "timestamp    0\n",
       "open         0\n",
       "high         0\n",
       "low          0\n",
       "close        0\n",
       "dtype: int64"
      ]
     },
     "execution_count": 5,
     "metadata": {},
     "output_type": "execute_result"
    }
   ],
   "source": [
    "df.isnull().sum()"
   ]
  }
 ],
 "metadata": {
  "kernelspec": {
   "display_name": "venv",
   "language": "python",
   "name": "python3"
  },
  "language_info": {
   "codemirror_mode": {
    "name": "ipython",
    "version": 3
   },
   "file_extension": ".py",
   "mimetype": "text/x-python",
   "name": "python",
   "nbconvert_exporter": "python",
   "pygments_lexer": "ipython3",
   "version": "3.9.13"
  }
 },
 "nbformat": 4,
 "nbformat_minor": 2
}
