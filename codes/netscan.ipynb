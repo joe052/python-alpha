{
 "cells": [
  {
   "cell_type": "markdown",
   "id": "ff92906d-e5af-4d41-aa52-d1974bdb80b0",
   "metadata": {},
   "source": [
    "# INSTRUCTIONS\n",
    "1. Create a virtual environment\n",
    "2. Install the required packages provided in the requirements.txt file\n",
    "    > pip install requirements.txt\n",
    "3. Download & Install npcap from the following link \"https://npcap.com/dist/npcap-1.80.exe\"\n",
    "4. Ensure that you run the notebook with admin priviledges.\n",
    "5. The result is a csv file named \"network_scan_report.csv\" automatically created in the same path as where the notebook was run."
   ]
  },
  {
   "cell_type": "markdown",
   "id": "9351a4e6-c8db-4cef-8114-64e3e44a0495",
   "metadata": {},
   "source": [
    "## Import required libraries and packages"
   ]
  },
  {
   "cell_type": "code",
   "execution_count": 38,
   "id": "fb705705-9f40-4569-a582-f71f4f5a48c7",
   "metadata": {},
   "outputs": [],
   "source": [
    "# Import required packages from the Scapy library\n",
    "import scapy.all as scapy \n",
    "from scapy.all import ARP, Ether, srp, conf\n",
    "import csv\n",
    "import socket\n",
    "import ipaddress"
   ]
  },
  {
   "cell_type": "markdown",
   "id": "425b7437-0d6e-46d5-a8af-df1d2a46ff0c",
   "metadata": {},
   "source": [
    "## Confirm if npcap is well configured"
   ]
  },
  {
   "cell_type": "code",
   "execution_count": 39,
   "id": "03c53851-858f-47ac-9e9e-ae2a0449a9a3",
   "metadata": {
    "scrolled": true
   },
   "outputs": [
    {
     "name": "stdout",
     "output_type": "stream",
     "text": [
      "Source   Index  Name                                  MAC                    IPv4             IPv6                     \n",
      "libpcap  1      Software Loopback Interface 1         00:00:00:00:00:00      127.0.0.1        ::1                      \n",
      "libpcap  10     Realtek PCIe GbE Family Controller    HP:d5:f6:37            192.168.62.10    fe80::b44:3353:b158:8394 \n",
      "libpcap  14     Microsoft Wi-Fi Direct Virtual Adap_  ba:d5:7a:a7:82:e5      169.254.166.134  fe80::81a4:b229:e8a9:ca18\n",
      "libpcap  16     WAN Miniport (IP)                                                                                      \n",
      "libpcap  19     Realtek RTL8821CE 802.11ac PCIe Ada_  CloudNetwork:a7:82:e5  169.254.101.1    fe80::2f6f:589d:511f:5a28\n",
      "libpcap  4      WAN Miniport (Network Monitor)                                                                         \n",
      "libpcap  44     Hyper-V Virtual Ethernet Adapter      Microsoft:f4:c6:15     172.19.144.1     fe80::9536:760b:dde:157a \n",
      "libpcap  8      WAN Miniport (IPv6)                                                                                    \n",
      "libpcap  9      Microsoft Wi-Fi Direct Virtual Adap_  3a:d5:7a:a7:82:e5      169.254.132.8    fe80::133e:dcc0:4617:bb73\n"
     ]
    }
   ],
   "source": [
    "print(conf.ifaces)"
   ]
  },
  {
   "cell_type": "markdown",
   "id": "bd5bf2a8-7e3d-4b43-95e5-cb7a68ce8cfd",
   "metadata": {},
   "source": [
    "## Get the local IP Address of your device"
   ]
  },
  {
   "cell_type": "code",
   "execution_count": 40,
   "id": "d88a53ce-aa31-4a38-9f8f-3f383f66033b",
   "metadata": {},
   "outputs": [
    {
     "name": "stdout",
     "output_type": "stream",
     "text": [
      "192.168.62.10\n"
     ]
    },
    {
     "data": {
      "text/plain": [
       "'192.168.62.10'"
      ]
     },
     "execution_count": 40,
     "metadata": {},
     "output_type": "execute_result"
    }
   ],
   "source": [
    "def getLocalIp():\n",
    "    # Gets the local IP address of the machine\n",
    "    try:\n",
    "        s = socket.socket(socket.AF_INET, socket.SOCK_DGRAM)\n",
    "        # Connect to Google's DNS server\n",
    "        s.connect((\"8.8.8.8\", 80))\n",
    "        local_ip = s.getsockname()[0]\n",
    "        s.close()\n",
    "        print(local_ip)\n",
    "        return local_ip\n",
    "    except Exception as e:\n",
    "        print(f\"Error getting local IP: {e}\")\n",
    "        return None\n",
    "\n",
    "getLocalIp()"
   ]
  },
  {
   "cell_type": "markdown",
   "id": "cc1135a2-5d52-47aa-8eaf-7bbe36dd82da",
   "metadata": {},
   "source": [
    "## Get the network range"
   ]
  },
  {
   "cell_type": "code",
   "execution_count": 41,
   "id": "2838db3e-89ba-4f80-af12-1c3e02453c41",
   "metadata": {},
   "outputs": [],
   "source": [
    "def getNetworkRange(ipAddress):\n",
    "    # Gets the network range based on the Ip Address\n",
    "    if not ipAddress:\n",
    "        return None\n",
    "    try:\n",
    "        network = ipaddress.ip_network(ipAddress + '/24', strict=False)\n",
    "        print(network)\n",
    "        return str(network)\n",
    "    except Exception as e:\n",
    "        print(f\"Error getting network range: {e}\")\n",
    "        return None\n",
    "\n",
    "# getNetworkRange('192.168.62.10')"
   ]
  },
  {
   "cell_type": "markdown",
   "id": "4d4a41fc-b805-44df-8b4e-c94bea1e5390",
   "metadata": {},
   "source": [
    "## Function to scan network and get the connected devices"
   ]
  },
  {
   "cell_type": "code",
   "execution_count": 42,
   "id": "165c46c2-2bf3-4e3a-8653-1b5afd439fbd",
   "metadata": {},
   "outputs": [],
   "source": [
    "def scanNetwork(network):\n",
    "    print(\"scanning network\", network)\n",
    "    # Create an ARP request\n",
    "    arp = ARP(pdst=network)\n",
    "    ether = Ether(dst=\"ff:ff:ff:ff:ff:ff\")\n",
    "    packet = ether/arp\n",
    "\n",
    "    # Send the packet and capture the responses\n",
    "    # conf.L3socket = L3RawSocket\n",
    "    result = srp(packet, timeout=3, verbose=0)[0]\n",
    "\n",
    "    devices = []\n",
    "    for sent, received in result:\n",
    "        devices.append({'IP': received.psrc, 'MAC': received.hwsrc})\n",
    "         \n",
    "    print(devices)\n",
    "    return devices\n",
    "    \n",
    "# scanNetwork(\"192.168.62.0/24\")"
   ]
  },
  {
   "cell_type": "markdown",
   "id": "0082200c-5137-4d0c-a8ef-1251a7e0e28b",
   "metadata": {},
   "source": [
    "## Save devices found to a csv"
   ]
  },
  {
   "cell_type": "code",
   "execution_count": 43,
   "id": "9d141972-5157-44b4-b66e-95bb60b3ef81",
   "metadata": {},
   "outputs": [],
   "source": [
    "def saveToCsv(devices, filename):\n",
    "    # Saves the scanned devices to a CSV file.\n",
    "    with open(filename, 'w', newline='') as file:\n",
    "        writer = csv.DictWriter(file, fieldnames=['IP', 'MAC'])\n",
    "        writer.writeheader()\n",
    "        for device in devices:\n",
    "            writer.writerow(device)"
   ]
  },
  {
   "cell_type": "markdown",
   "id": "6ea14e86-14e0-44e0-8046-32390b773861",
   "metadata": {},
   "source": [
    "## Execute all the functions from the block below."
   ]
  },
  {
   "cell_type": "code",
   "execution_count": 44,
   "id": "c6b135e3-c019-4c73-9e24-fa30d2089b14",
   "metadata": {},
   "outputs": [
    {
     "name": "stdout",
     "output_type": "stream",
     "text": [
      "192.168.62.10\n",
      "192.168.62.0/24\n",
      "Scanning the network...\n",
      "scanning network 192.168.62.0/24\n",
      "[{'IP': '192.168.62.1', 'MAC': '90:6c:ac:99:4c:0c'}, {'IP': '192.168.62.10', 'MAC': 'c0:18:03:d5:f6:37'}, {'IP': '192.168.62.16', 'MAC': '48:0f:cf:3b:fd:17'}, {'IP': '192.168.62.25', 'MAC': '78:04:e3:96:21:79'}, {'IP': '192.168.62.26', 'MAC': '48:0f:cf:66:91:b1'}, {'IP': '192.168.62.30', 'MAC': 'dc:4a:3e:7f:b9:ba'}, {'IP': '192.168.62.31', 'MAC': '78:04:e3:96:2c:79'}, {'IP': '192.168.62.32', 'MAC': '78:04:e3:96:26:d6'}, {'IP': '192.168.62.36', 'MAC': '78:04:e3:95:fa:03'}, {'IP': '192.168.62.41', 'MAC': '48:0f:cf:45:38:a3'}, {'IP': '192.168.62.35', 'MAC': 'e8:65:d4:20:2c:30'}, {'IP': '192.168.62.64', 'MAC': '78:04:e3:96:1b:57'}, {'IP': '192.168.62.65', 'MAC': '48:8f:5a:9b:23:82'}, {'IP': '192.168.62.66', 'MAC': 'a0:8c:fd:c3:8c:9d'}, {'IP': '192.168.62.69', 'MAC': 'c4:65:16:24:ae:b1'}, {'IP': '192.168.62.74', 'MAC': '48:0f:cf:3b:fc:f9'}, {'IP': '192.168.62.76', 'MAC': '50:0f:f5:35:94:80'}, {'IP': '192.168.62.78', 'MAC': '78:04:e3:96:1b:8f'}, {'IP': '192.168.62.91', 'MAC': '78:04:e3:96:1e:d3'}, {'IP': '192.168.62.101', 'MAC': '78:04:e3:96:21:f3'}, {'IP': '192.168.62.107', 'MAC': '78:04:e3:96:1e:db'}, {'IP': '192.168.62.109', 'MAC': '78:04:e3:96:25:6b'}, {'IP': '192.168.62.110', 'MAC': 'e8:65:d4:00:82:68'}, {'IP': '192.168.62.117', 'MAC': 'e8:65:d4:20:2c:50'}, {'IP': '192.168.62.240', 'MAC': '28:d2:44:a3:60:d7'}]\n",
      "Found 25 devices on the network.\n",
      "IP: 192.168.62.1, MAC: 90:6c:ac:99:4c:0c\n",
      "IP: 192.168.62.10, MAC: c0:18:03:d5:f6:37\n",
      "IP: 192.168.62.16, MAC: 48:0f:cf:3b:fd:17\n",
      "IP: 192.168.62.25, MAC: 78:04:e3:96:21:79\n",
      "IP: 192.168.62.26, MAC: 48:0f:cf:66:91:b1\n",
      "IP: 192.168.62.30, MAC: dc:4a:3e:7f:b9:ba\n",
      "IP: 192.168.62.31, MAC: 78:04:e3:96:2c:79\n",
      "IP: 192.168.62.32, MAC: 78:04:e3:96:26:d6\n",
      "IP: 192.168.62.36, MAC: 78:04:e3:95:fa:03\n",
      "IP: 192.168.62.41, MAC: 48:0f:cf:45:38:a3\n",
      "IP: 192.168.62.35, MAC: e8:65:d4:20:2c:30\n",
      "IP: 192.168.62.64, MAC: 78:04:e3:96:1b:57\n",
      "IP: 192.168.62.65, MAC: 48:8f:5a:9b:23:82\n",
      "IP: 192.168.62.66, MAC: a0:8c:fd:c3:8c:9d\n",
      "IP: 192.168.62.69, MAC: c4:65:16:24:ae:b1\n",
      "IP: 192.168.62.74, MAC: 48:0f:cf:3b:fc:f9\n",
      "IP: 192.168.62.76, MAC: 50:0f:f5:35:94:80\n",
      "IP: 192.168.62.78, MAC: 78:04:e3:96:1b:8f\n",
      "IP: 192.168.62.91, MAC: 78:04:e3:96:1e:d3\n",
      "IP: 192.168.62.101, MAC: 78:04:e3:96:21:f3\n",
      "IP: 192.168.62.107, MAC: 78:04:e3:96:1e:db\n",
      "IP: 192.168.62.109, MAC: 78:04:e3:96:25:6b\n",
      "IP: 192.168.62.110, MAC: e8:65:d4:00:82:68\n",
      "IP: 192.168.62.117, MAC: e8:65:d4:20:2c:50\n",
      "IP: 192.168.62.240, MAC: 28:d2:44:a3:60:d7\n",
      "Report saved to network_scan_report.csv.\n"
     ]
    }
   ],
   "source": [
    "def scan():\n",
    "    # Get IP Address for my network\n",
    "    ipAddress = getLocalIp()\n",
    "    \n",
    "    # Return if no IP found\n",
    "    if not ipAddress:\n",
    "        print(\"Failed to get local IP. Exiting.\")\n",
    "        return\n",
    "    \n",
    "    # Get the network range\n",
    "    networkRange = getNetworkRange(ipAddress)\n",
    "\n",
    "    # Scan the network using the network range found\n",
    "    print(\"Scanning the network...\")\n",
    "    devices = scanNetwork(networkRange)\n",
    "    if devices:\n",
    "        print(f\"Found {len(devices)} devices on the network.\")\n",
    "        for device in devices:\n",
    "            print(f\"IP: {device['IP']}, MAC: {device['MAC']}\")\n",
    "        # Save results to a CSV file\n",
    "        filename = \"network_scan_report.csv\"\n",
    "        saveToCsv(devices, filename)\n",
    "        print(f\"Report saved to {filename}.\")\n",
    "    else:\n",
    "        print(\"No devices found on the network.\")\n",
    "\n",
    "scan()"
   ]
  },
  {
   "cell_type": "code",
   "execution_count": null,
   "id": "3ab4e512-967c-460d-938f-f311eb8a3770",
   "metadata": {},
   "outputs": [],
   "source": []
  }
 ],
 "metadata": {
  "kernelspec": {
   "display_name": "Python 3 (ipykernel)",
   "language": "python",
   "name": "python3"
  },
  "language_info": {
   "codemirror_mode": {
    "name": "ipython",
    "version": 3
   },
   "file_extension": ".py",
   "mimetype": "text/x-python",
   "name": "python",
   "nbconvert_exporter": "python",
   "pygments_lexer": "ipython3",
   "version": "3.12.5"
  }
 },
 "nbformat": 4,
 "nbformat_minor": 5
}
